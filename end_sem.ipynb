{
  "nbformat": 4,
  "nbformat_minor": 0,
  "metadata": {
    "colab": {
      "provenance": []
    },
    "kernelspec": {
      "name": "python3",
      "display_name": "Python 3"
    },
    "language_info": {
      "name": "python"
    }
  },
  "cells": [
    {
      "cell_type": "markdown",
      "source": [
        "Write a python program to draw a line plot between month and profit .\n",
        "Name x-axis as months, Y-axis as months, title of the graph is profit analysis\n"
      ],
      "metadata": {
        "id": "IwfBmorMP_Ug"
      }
    },
    {
      "cell_type": "code",
      "source": [
        "import pandas as pd\n",
        "import matplotlib.pyplot as plt\n",
        "\n",
        "df = pd.read_csv(\"D:\\\\Python\\\\Articles\\\\matplotlib\\\\sales_data.csv\")\n",
        "profitList = df ['total_profit'].tolist()\n",
        "monthList  = df ['month_number'].tolist()\n",
        "plt.plot(monthList, profitList, label = 'Month-wise Profit data of last year')\n",
        "plt.xlabel('Month number')\n",
        "plt.ylabel('Profit in dollar')\n",
        "plt.xticks(monthList)\n",
        "plt.title('Company profit per month')\n",
        "plt.yticks([100000, 200000, 300000, 400000, 500000])\n",
        "plt.show()"
      ],
      "metadata": {
        "id": "To4w79xMQs1r"
      },
      "execution_count": null,
      "outputs": []
    },
    {
      "cell_type": "markdown",
      "source": [
        "Write a Python program to plot two or more lines where each line talks about the profits\n",
        "of a particular product in each month give different colors to each line name the lines with\n",
        "the name of the product using legend."
      ],
      "metadata": {
        "id": "5Sg8O0-iQtwz"
      }
    },
    {
      "cell_type": "code",
      "source": [
        "import matplotlib.pyplot as plt\n",
        "# line 1 points\n",
        "x1 = [10,20,30]\n",
        "y1 = [20,40,10]\n",
        "# plotting the line 1 points\n",
        "plt.plot(x1, y1, label = \"line 1\")\n",
        "# line 2 points\n",
        "x2 = [10,20,30]\n",
        "y2 = [40,10,30]\n",
        "# plotting the line 2 points\n",
        "plt.plot(x2, y2, label = \"line 2\")\n",
        "plt.xlabel('x - axis')\n",
        "# Set the y axis label of the current axis.\n",
        "plt.ylabel('y - axis')\n",
        "# Set a title of the current axes.\n",
        "plt.title('Two or more lines on same plot with suitable legends ')\n",
        "# show a legend on the plot\n",
        "plt.legend()\n",
        "# Display a figure.\n",
        "plt.show()\n"
      ],
      "metadata": {
        "colab": {
          "base_uri": "https://localhost:8080/",
          "height": 295
        },
        "id": "aPwI8oonQ0VL",
        "outputId": "548686f1-cb2b-4ce5-fc9b-6da5c3797e8f"
      },
      "execution_count": null,
      "outputs": [
        {
          "output_type": "display_data",
          "data": {
            "text/plain": [
              "<Figure size 432x288 with 1 Axes>"
            ],
            "image/png": "[encoded data removed]"
          },
          "metadata": {
            "needs_background": "light"
          }
        }
      ]
    },
    {
      "cell_type": "markdown",
      "source": [
        "Write a Python program to Read no of products sold in each month and show it using a\n",
        "bar graph."
      ],
      "metadata": {
        "id": "sJq0XyVhRLBQ"
      }
    },
    {
      "cell_type": "code",
      "source": [
        "import pandas as pd\n",
        "import matplotlib.pyplot as plt\n",
        "\n",
        "df = pd.read_csv(\"D:\\\\Python\\\\Articles\\\\matplotlib\\\\sales_data.csv\")\n",
        "monthList  = df ['month_number'].tolist()\n",
        "faceCremSalesData   = df ['facecream'].tolist()\n",
        "faceWashSalesData   = df ['facewash'].tolist()\n",
        "\n",
        "plt.bar([a-0.25 for a in monthList], faceCremSalesData, width= 0.25, label = 'Face Cream sales data', align='edge')\n",
        "plt.bar([a+0.25 for a in monthList], faceWashSalesData, width= -0.25, label = 'Face Wash sales data', align='edge')\n",
        "plt.xlabel('Month Number')\n",
        "plt.ylabel('Sales units in number')\n",
        "plt.legend(loc='upper left')\n",
        "plt.title(' Sales data')\n",
        "\n",
        "plt.xticks(monthList)\n",
        "plt.grid(True, linewidth= 1, linestyle=\"--\")\n",
        "plt.title('Facewash and facecream sales data')\n",
        "plt.show()"
      ],
      "metadata": {
        "id": "z8-KtPMXROKl"
      },
      "execution_count": null,
      "outputs": []
    },
    {
      "cell_type": "markdown",
      "source": [
        "Write a Python program to Calculate total sale data for last year for each product and\n",
        "show it using a Pie chart"
      ],
      "metadata": {
        "id": "Btw4wBLARyaH"
      }
    },
    {
      "cell_type": "code",
      "source": [
        "sales = [15, 35, 20, 10, 15, 5]\n",
        "names = [\"red\", \"blue\", \"grey\", \"black\", \"yellow\", \"magenta\"]\n",
        "colors = [\"r\",\"b\",\"g\",\"k\",\"y\",\"m\"]\n",
        "\n",
        "plt.pie(sales, labels = names, colors = colors, explode=[0,.2,0,0,0,0])\n",
        "plt.show()"
      ],
      "metadata": {
        "colab": {
          "base_uri": "https://localhost:8080/",
          "height": 248
        },
        "id": "3dNb5C4nRyIh",
        "outputId": "e45c798a-4532-4411-9cd3-f6ffe229060a"
      },
      "execution_count": null,
      "outputs": [
        {
          "output_type": "display_data",
          "data": {
            "text/plain": [
              "<Figure size 432x288 with 1 Axes>"
            ],
            "image/png": "[encoded data removed]"
          },
          "metadata": {}
        }
      ]
    },
    {
      "cell_type": "markdown",
      "source": [
        "Write a Python program to Read any two products sales data and show it using the bar\n",
        "chart"
      ],
      "metadata": {
        "id": "1E3pCq0DSTw8"
      }
    },
    {
      "cell_type": "code",
      "source": [
        "dic = {\n",
        "    \"cars\": 50,\n",
        "    \"bikes\": 60,\n",
        "    \"buses\":30\n",
        "}\n",
        "names = list(dic.keys())\n",
        "value = list(dic.values())\n",
        "plt.bar(names, value, width=0.5, color=\"b\")\n",
        "plt.show()"
      ],
      "metadata": {
        "id": "E1zAtKcvSSc9"
      },
      "execution_count": null,
      "outputs": []
    },
    {
      "cell_type": "markdown",
      "source": [
        "Draw a graph to find no of people fall under a given range of age groups\n",
        "1. input- list of age ranges\n",
        "2. Table of contents (name , age, phone no)"
      ],
      "metadata": {
        "id": "pSBn5S11SXK8"
      }
    },
    {
      "cell_type": "code",
      "source": [],
      "metadata": {
        "id": "2ZbxgEHzUbIA"
      },
      "execution_count": null,
      "outputs": []
    },
    {
      "cell_type": "markdown",
      "source": [
        "Write a python program to append the following content to a file.(Do not overwrite)\n",
        "Given file : SAMPLEQ3.txt"
      ],
      "metadata": {
        "id": "gE8DByxjTS4X"
      }
    },
    {
      "cell_type": "code",
      "source": [
        "with open(\"SAMPLEQ3.txt\", \"a\") as f:\n",
        "   f.write(\"This is QUIZ3 Examination Of python programming\")"
      ],
      "metadata": {
        "id": "F1jFK7MjSbnd"
      },
      "execution_count": null,
      "outputs": []
    },
    {
      "cell_type": "markdown",
      "source": [
        "Read the csv file and count the number of student who scored CGPA 9 and more than\n",
        "9. file name: SAMPLECSVQ3.csv"
      ],
      "metadata": {
        "id": "rrKSwu9BTO1w"
      }
    },
    {
      "cell_type": "code",
      "source": [
        "import pandas as pd\n",
        "df=pd.read_csv('SAMPLECSVQ3.csv')\n",
        "x = df['CGPA'].astype(int)\n",
        "count=-1\n",
        "for i in x:\n",
        "    if i >= 9:\n",
        "        count=count+1\n",
        "print(count)"
      ],
      "metadata": {
        "id": "ScGnAmtqU5XE"
      },
      "execution_count": null,
      "outputs": []
    },
    {
      "cell_type": "markdown",
      "source": [
        ". Read the given csv file and display the maximum salary.file name: SALARYQ3.csv"
      ],
      "metadata": {
        "id": "9DajGP3QU6NQ"
      }
    },
    {
      "cell_type": "code",
      "source": [],
      "metadata": {
        "id": "we2HwPcGVGjA"
      },
      "execution_count": null,
      "outputs": []
    }
  ]
}