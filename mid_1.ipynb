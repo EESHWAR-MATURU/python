{
  "nbformat": 4,
  "nbformat_minor": 0,
  "metadata": {
    "colab": {
      "provenance": []
    },
    "kernelspec": {
      "name": "python3",
      "display_name": "Python 3"
    },
    "language_info": {
      "name": "python"
    }
  },
  "cells": [
    {
      "cell_type": "markdown",
      "source": [
        "Write a program to separate student names belonging to a class alphabetically.\n",
        "Use appropriate python data type (Should make use of lists and sorting).\n",
        "a. Test case: Enter student names: ravi, ameen, saraf, rahul, kanaka\n",
        "b. Student names sorted: [“ameen”, “kanaka”, “rahul”, “ravi”, “saraf”]"
      ],
      "metadata": {
        "id": "JzQ_tzyb1XiZ"
      }
    },
    {
      "cell_type": "code",
      "source": [
        "list = [\"ravi\", \"ameen\", \"saraf\", \"rahul\", \"kanaka\"]\n",
        "list.sort(key=str.lower)\n",
        "print(list)"
      ],
      "metadata": {
        "colab": {
          "base_uri": "https://localhost:8080/"
        },
        "id": "-lEMh0Fx1a6y",
        "outputId": "458c4406-2692-4444-b8b6-013958b567c6"
      },
      "execution_count": null,
      "outputs": [
        {
          "output_type": "stream",
          "name": "stdout",
          "text": [
            "['ameen', 'kanaka', 'rahul', 'ravi', 'saraf']\n"
          ]
        }
      ]
    },
    {
      "cell_type": "markdown",
      "source": [
        "Display numbers divisible by 5 from a list"
      ],
      "metadata": {
        "id": "BP3M02nw7P1y"
      }
    },
    {
      "cell_type": "code",
      "source": [
        "def divisiable_by_5(l):\n",
        "  for num in l:\n",
        "      if num % 5 == 0:\n",
        "           print(num)\n",
        "x=[5,12,14,18,20,25,10]\n",
        "print(divisiable_by_5(x))"
      ],
      "metadata": {
        "colab": {
          "base_uri": "https://localhost:8080/"
        },
        "id": "9Lu5s5Wr7YUP",
        "outputId": "44a98d7d-d2ff-404e-d024-ebc3facd6922"
      },
      "execution_count": null,
      "outputs": [
        {
          "output_type": "stream",
          "name": "stdout",
          "text": [
            "5\n",
            "20\n",
            "25\n",
            "10\n",
            "None\n"
          ]
        }
      ]
    },
    {
      "cell_type": "markdown",
      "source": [
        "Write a Python program to create Fibonacci series upto n using Lambda"
      ],
      "metadata": {
        "id": "Z8eL51rp80fo"
      }
    },
    {
      "cell_type": "code",
      "source": [
        "from functools import reduce\n",
        "\n",
        "fib = lambda n: reduce(lambda x, _: x+[x[-1]+x[-2]],range(n-2), [0, 1])\n",
        "\n",
        "print(fib(10))\n"
      ],
      "metadata": {
        "colab": {
          "base_uri": "https://localhost:8080/"
        },
        "id": "kRnXLIm49SZC",
        "outputId": "f1c155b9-f588-4bc8-a306-ed26e4b6072c"
      },
      "execution_count": null,
      "outputs": [
        {
          "output_type": "stream",
          "name": "stdout",
          "text": [
            "[0, 1, 1, 2, 3, 5, 8, 13, 21, 34]\n"
          ]
        }
      ]
    },
    {
      "cell_type": "markdown",
      "source": [
        "Write a program to pass two integer numbers to a function and perform following\n",
        "a. divide and round off the result (Test Case:: input: 177 , 12 output: 14)\n",
        "b. Modulus and ceil the result (Test Case:: iinput: 177 , 13 output: 8)"
      ],
      "metadata": {
        "id": "ak9DjF4J--D5"
      }
    },
    {
      "cell_type": "code",
      "source": [
        "import math\n",
        "a = int(input())\n",
        "b = int(input())\n",
        "c = a/b\n",
        "d = a%b\n",
        "print(round(c))\n",
        "print(math.ceil(d))\n"
      ],
      "metadata": {
        "colab": {
          "base_uri": "https://localhost:8080/"
        },
        "id": "mlKMBcgj_Kdq",
        "outputId": "f8ed7485-83ea-420e-f943-a5e5d99a60ac"
      },
      "execution_count": null,
      "outputs": [
        {
          "output_type": "stream",
          "name": "stdout",
          "text": [
            "177\n",
            "13\n",
            "14\n",
            "8\n"
          ]
        }
      ]
    },
    {
      "cell_type": "markdown",
      "source": [
        "Write a program to eliminate duplicate values in the list\n",
        "Test Case: Input: [1,2,3,55,6,3,55,7]\n",
        "Output: [1,2,3,55,6,7]"
      ],
      "metadata": {
        "id": "SRjder83BmCc"
      }
    },
    {
      "cell_type": "code",
      "source": [
        "a = [1,2,3,55,6,3,55,7]\n",
        "dup_items = set()\n",
        "uniq_items = []\n",
        "for x in a:\n",
        "    if x not in dup_items:\n",
        "        uniq_items.append(x)\n",
        "        dup_items.add(x)\n",
        "print(dup_items)\n"
      ],
      "metadata": {
        "colab": {
          "base_uri": "https://localhost:8080/"
        },
        "id": "1PDCm4n5Bwhw",
        "outputId": "5add44e9-69be-44e8-bcd7-ba9414bb9ce0"
      },
      "execution_count": null,
      "outputs": [
        {
          "output_type": "stream",
          "name": "stdout",
          "text": [
            "{1, 2, 3, 6, 7, 55}\n"
          ]
        }
      ]
    },
    {
      "cell_type": "markdown",
      "source": [
        "12 boys and 15 girls are to march in a parade. The organizer wants them to\n",
        "march in rows, with each row having the same number of children, and with\n",
        "each row composed of children with the same gender. What is the largest\n",
        "number of children per row that satisfies these constraints-Write a python\n",
        "program/instruction(s)?"
      ],
      "metadata": {
        "id": "2VU1kRyxCROh"
      }
    },
    {
      "cell_type": "code",
      "source": [
        "\n",
        "def gcd(a, b):\n",
        "  if (b == 0):\n",
        "    return a\n",
        "\n",
        "  return gcd(b, a % b)\n",
        "\n",
        "def maximumRowValue(n, m):\n",
        "  return gcd(n, m)\n",
        "\n",
        "\n",
        "if __name__ == '__main__':\n",
        "\n",
        "  N = 12\n",
        "  M = 15\n",
        "\n",
        "  print(maximumRowValue(N, M))\n",
        "\n",
        "\n"
      ],
      "metadata": {
        "colab": {
          "base_uri": "https://localhost:8080/"
        },
        "id": "y-5ao13aCVkS",
        "outputId": "2c54ecd0-f7d2-4043-d3de-d11de7f2022f"
      },
      "execution_count": null,
      "outputs": [
        {
          "output_type": "stream",
          "name": "stdout",
          "text": [
            "3\n"
          ]
        }
      ]
    },
    {
      "cell_type": "markdown",
      "source": [
        "A rectangular floor measures 300 cm×195 cm 300 cm×195 cm. What is the\n",
        "largest square tiles that can be used to cover the floor exactly-Write a python\n",
        "program/instruction(s)"
      ],
      "metadata": {
        "id": "U6or0JlaDI7o"
      }
    },
    {
      "cell_type": "code",
      "source": [],
      "metadata": {
        "id": "RzmQuSDfDPIu"
      },
      "execution_count": null,
      "outputs": []
    },
    {
      "cell_type": "markdown",
      "source": [
        "Find the gcd of 450,156."
      ],
      "metadata": {
        "id": "k1sUTkTbEUol"
      }
    },
    {
      "cell_type": "code",
      "source": [
        "def gcd(x, y):\n",
        "\n",
        "    if x > y:\n",
        "        smaller = y\n",
        "    else:\n",
        "        smaller = x\n",
        "    for i in range(1, smaller+1):\n",
        "        if((x % i == 0) and (y % i == 0)):\n",
        "            hcf = i\n",
        "    return hcf\n",
        "\n",
        "num1 = 450\n",
        "num2 = 156\n",
        "\n",
        "print(gcd(num1, num2))\n"
      ],
      "metadata": {
        "colab": {
          "base_uri": "https://localhost:8080/"
        },
        "id": "SpKioGrNEr27",
        "outputId": "984ca4ab-5a29-472f-c161-a4b1c134d9c6"
      },
      "execution_count": null,
      "outputs": [
        {
          "output_type": "stream",
          "name": "stdout",
          "text": [
            "6\n"
          ]
        }
      ]
    },
    {
      "cell_type": "markdown",
      "source": [
        "Two rods are 22 m and 26 m long. The rods are to be cut into pieces of equal length. Find\n",
        "the maximum length of each piece."
      ],
      "metadata": {
        "id": "fqJ6PE9nFmMg"
      }
    },
    {
      "cell_type": "code",
      "source": [
        "def gcd(x, y):\n",
        "\n",
        "    if x > y:\n",
        "        smaller = y\n",
        "    else:\n",
        "        smaller = x\n",
        "    for i in range(1, smaller+1):\n",
        "        if((x % i == 0) and (y % i == 0)):\n",
        "            hcf = i\n",
        "    return hcf\n",
        "\n",
        "num1 = 22\n",
        "num2 = 26\n",
        "\n",
        "print(gcd(num1, num2))"
      ],
      "metadata": {
        "colab": {
          "base_uri": "https://localhost:8080/"
        },
        "id": "wSvlEg8jE9bw",
        "outputId": "4ea9eb21-effe-446d-96e2-ad5c0533666f"
      },
      "execution_count": null,
      "outputs": [
        {
          "output_type": "stream",
          "name": "stdout",
          "text": [
            "2\n"
          ]
        }
      ]
    },
    {
      "cell_type": "markdown",
      "source": [
        "A shopkeeper has 420 balls and 130 bats to pack in a day. She wants to pack them in such\n",
        "a way that each set has the same number in a box, and they take up the least area of the\n",
        "box. What is the number that can be placed in each set for this packing purpose?"
      ],
      "metadata": {
        "id": "5RrUNRKdGYmf"
      }
    },
    {
      "cell_type": "code",
      "source": [
        "def gcd(x, y):\n",
        "\n",
        "    if x > y:\n",
        "        smaller = y\n",
        "    else:\n",
        "        smaller = x\n",
        "    for i in range(1, smaller+1):\n",
        "        if((x % i == 0) and (y % i == 0)):\n",
        "            hcf = i\n",
        "    return hcf\n",
        "\n",
        "num1 = 420\n",
        "num2 = 130\n",
        "\n",
        "print(gcd(num1, num2))"
      ],
      "metadata": {
        "colab": {
          "base_uri": "https://localhost:8080/"
        },
        "id": "-jo8Jgh-FjG4",
        "outputId": "b557a40c-d893-4abb-a910-9073c6c3dad1"
      },
      "execution_count": null,
      "outputs": [
        {
          "output_type": "stream",
          "name": "stdout",
          "text": [
            "10\n"
          ]
        }
      ]
    },
    {
      "cell_type": "markdown",
      "source": [
        "covert F to C degrees c = 5/9(F-32) e"
      ],
      "metadata": {
        "id": "cV8d2I2UGtr1"
      }
    },
    {
      "cell_type": "code",
      "source": [
        "f = int(input())\n",
        "c = (5/9)*(f-32)\n",
        "print(round(c))"
      ],
      "metadata": {
        "colab": {
          "base_uri": "https://localhost:8080/"
        },
        "id": "xjYPF2edGnZe",
        "outputId": "126418fe-707a-4d2c-bed6-e9548a5e2759"
      },
      "execution_count": null,
      "outputs": [
        {
          "output_type": "stream",
          "name": "stdout",
          "text": [
            "69\n",
            "21\n"
          ]
        }
      ]
    },
    {
      "cell_type": "markdown",
      "source": [
        "centimeters to inches 1 inch= 2.54cm"
      ],
      "metadata": {
        "id": "SfHw8iY_InzE"
      }
    },
    {
      "cell_type": "code",
      "source": [
        "inch = int(input())\n",
        "c = inch/2.54\n",
        "print(round(c))"
      ],
      "metadata": {
        "colab": {
          "base_uri": "https://localhost:8080/"
        },
        "id": "izlj0lCpHOZw",
        "outputId": "c2726ce0-2f00-4196-b6b1-c2c5ed4a2f71"
      },
      "execution_count": null,
      "outputs": [
        {
          "output_type": "stream",
          "name": "stdout",
          "text": [
            "30\n",
            "12\n"
          ]
        }
      ]
    },
    {
      "cell_type": "markdown",
      "source": [
        "miles to KM 1 km= 1.609 miles"
      ],
      "metadata": {
        "id": "eGs0SKCbJlth"
      }
    },
    {
      "cell_type": "code",
      "source": [
        "k = int(input())\n",
        "m = k*1.609\n",
        "print(round(m))"
      ],
      "metadata": {
        "colab": {
          "base_uri": "https://localhost:8080/"
        },
        "id": "MmC5ZFOzJBx4",
        "outputId": "f50e30df-218c-495b-a86d-96fc81dc9896"
      },
      "execution_count": null,
      "outputs": [
        {
          "output_type": "stream",
          "name": "stdout",
          "text": [
            "2\n",
            "3\n"
          ]
        }
      ]
    },
    {
      "cell_type": "markdown",
      "source": [
        "KG to pound 1kg = 2.204 pounds"
      ],
      "metadata": {
        "id": "pgQfm3YcJ_78"
      }
    },
    {
      "cell_type": "code",
      "source": [
        "k = int(input())\n",
        "g = k/2.204\n",
        "print(round(g))"
      ],
      "metadata": {
        "colab": {
          "base_uri": "https://localhost:8080/"
        },
        "id": "0xj1LuUAJ7OL",
        "outputId": "3f4c1282-6c3c-4447-cbc7-834384d24d10"
      },
      "execution_count": null,
      "outputs": [
        {
          "output_type": "stream",
          "name": "stdout",
          "text": [
            "78\n",
            "35\n"
          ]
        }
      ]
    },
    {
      "cell_type": "markdown",
      "source": [
        "gallons to liters 1 gallon= 3.785"
      ],
      "metadata": {
        "id": "Hiwucw6XKWd3"
      }
    },
    {
      "cell_type": "code",
      "source": [
        "g = int(input())\n",
        "l = g*3.785\n",
        "print(l)"
      ],
      "metadata": {
        "colab": {
          "base_uri": "https://localhost:8080/"
        },
        "id": "7qmHGRTNKN6L",
        "outputId": "4e9672cc-b750-4f0d-d245-7fdb9879bc39"
      },
      "execution_count": null,
      "outputs": [
        {
          "output_type": "stream",
          "name": "stdout",
          "text": [
            "6\n",
            "22.71\n"
          ]
        }
      ]
    },
    {
      "cell_type": "markdown",
      "source": [
        "ounce to liters 1 ounce = 0.02 96"
      ],
      "metadata": {
        "id": "fkrSpkydLJlT"
      }
    },
    {
      "cell_type": "code",
      "source": [
        "o = int(input())\n",
        "l = o*0.0296\n",
        "print(l)"
      ],
      "metadata": {
        "colab": {
          "base_uri": "https://localhost:8080/"
        },
        "id": "eXvE91O7KpKT",
        "outputId": "eebb102b-46b7-41e8-9d25-b5d7b36f0170"
      },
      "execution_count": null,
      "outputs": [
        {
          "output_type": "stream",
          "name": "stdout",
          "text": [
            "2\n",
            "0.0592\n"
          ]
        }
      ]
    },
    {
      "cell_type": "markdown",
      "source": [
        "minutes & seconds to hours"
      ],
      "metadata": {
        "id": "JVJFTWCoL-jO"
      }
    },
    {
      "cell_type": "code",
      "source": [
        "m = int(input())\n",
        "s = int(input())\n",
        "h1 = m/60\n",
        "h2 = s/3600\n",
        "print(h1)\n",
        "print(h2)"
      ],
      "metadata": {
        "colab": {
          "base_uri": "https://localhost:8080/"
        },
        "id": "nDg8n-xMLi5f",
        "outputId": "4b8c8a48-272a-4dfd-b886-68394fc921c2"
      },
      "execution_count": null,
      "outputs": [
        {
          "output_type": "stream",
          "name": "stdout",
          "text": [
            "72\n",
            "5665\n",
            "1.2\n",
            "1.573611111111111\n"
          ]
        }
      ]
    },
    {
      "cell_type": "markdown",
      "source": [
        "days to hours"
      ],
      "metadata": {
        "id": "jonNurfONVY1"
      }
    },
    {
      "cell_type": "code",
      "source": [
        "d = int(input())\n",
        "h = d*24\n",
        "print(h)"
      ],
      "metadata": {
        "colab": {
          "base_uri": "https://localhost:8080/"
        },
        "id": "hdipK9p1Mdk9",
        "outputId": "287a5146-91b2-4371-e20b-6b4817821553"
      },
      "execution_count": null,
      "outputs": [
        {
          "output_type": "stream",
          "name": "stdout",
          "text": [
            "7\n",
            "168\n"
          ]
        }
      ]
    },
    {
      "cell_type": "markdown",
      "source": [
        "$ to Rs"
      ],
      "metadata": {
        "id": "R9hqjvP2NzhO"
      }
    },
    {
      "cell_type": "code",
      "source": [
        "dollar = int(input())\n",
        "rupees = dollar*80\n",
        "print(rupees)"
      ],
      "metadata": {
        "colab": {
          "base_uri": "https://localhost:8080/"
        },
        "id": "-xhZ9G5DNvoB",
        "outputId": "fd27cd3d-6d54-48a3-96bd-c7d8be1bc1fa"
      },
      "execution_count": null,
      "outputs": [
        {
          "output_type": "stream",
          "name": "stdout",
          "text": [
            "7\n",
            "560\n"
          ]
        }
      ]
    },
    {
      "cell_type": "markdown",
      "source": [
        "find acceleration of object a= v/t e"
      ],
      "metadata": {
        "id": "Chl3IB6JPV4W"
      }
    },
    {
      "cell_type": "code",
      "source": [
        "v = int(input())\n",
        "t = int(input())\n",
        "a = v/t\n",
        "print(a)"
      ],
      "metadata": {
        "colab": {
          "base_uri": "https://localhost:8080/"
        },
        "id": "NHvdmszKOfdD",
        "outputId": "dff1df14-5348-45ca-bc76-5bc30a40f100"
      },
      "execution_count": null,
      "outputs": [
        {
          "output_type": "stream",
          "name": "stdout",
          "text": [
            "30\n",
            "4\n",
            "7.5\n"
          ]
        }
      ]
    },
    {
      "cell_type": "markdown",
      "source": [
        "find kinetic energy 1/2 m V^2"
      ],
      "metadata": {
        "id": "bo2H831HPxSV"
      }
    },
    {
      "cell_type": "code",
      "source": [
        "m = int(input())\n",
        "V = int(input())\n",
        "k = 1/2*m*V*V\n",
        "print(k)"
      ],
      "metadata": {
        "colab": {
          "base_uri": "https://localhost:8080/"
        },
        "id": "uz3HQJ2YPtlN",
        "outputId": "6c083a6d-ef61-49c9-d145-470610b611d8"
      },
      "execution_count": null,
      "outputs": [
        {
          "output_type": "stream",
          "name": "stdout",
          "text": [
            "4\n",
            "5\n",
            "50.0\n"
          ]
        }
      ]
    },
    {
      "cell_type": "markdown",
      "source": [
        "find momentum p= mV"
      ],
      "metadata": {
        "id": "rBmGzk88QVGH"
      }
    },
    {
      "cell_type": "code",
      "source": [
        "m = int(input())\n",
        "v = int(input())\n",
        "p = m*v\n",
        "print(p)"
      ],
      "metadata": {
        "colab": {
          "base_uri": "https://localhost:8080/"
        },
        "id": "jK8me7zFQP70",
        "outputId": "3c303b34-1ea7-4cd2-f560-83b9bf1671a2"
      },
      "execution_count": null,
      "outputs": [
        {
          "output_type": "stream",
          "name": "stdout",
          "text": [
            "5\n",
            "6\n",
            "30\n"
          ]
        }
      ]
    },
    {
      "cell_type": "markdown",
      "source": [
        "bytes to KB, MB"
      ],
      "metadata": {
        "id": "KJa_dcfpQ1Pw"
      }
    },
    {
      "cell_type": "code",
      "source": [
        "b = int(input())\n",
        "kb = b/1000\n",
        "mb = b/1000000\n",
        "print(kb)\n",
        "print(mb)\n"
      ],
      "metadata": {
        "colab": {
          "base_uri": "https://localhost:8080/"
        },
        "id": "LUG_Gk30Q6Fu",
        "outputId": "17795eac-802b-4695-8034-6241a6f76287"
      },
      "execution_count": null,
      "outputs": [
        {
          "output_type": "stream",
          "name": "stdout",
          "text": [
            "6\n",
            "0.006\n",
            "6e-06\n"
          ]
        }
      ]
    },
    {
      "cell_type": "markdown",
      "source": [
        "yards to sq feet 1yard= 9 sq ft"
      ],
      "metadata": {
        "id": "YYbcw1NbSPka"
      }
    },
    {
      "cell_type": "code",
      "source": [
        "y = int(input())\n",
        "sqf = 9*y\n",
        "print(sqf)\n"
      ],
      "metadata": {
        "colab": {
          "base_uri": "https://localhost:8080/"
        },
        "id": "pfe94R1WSTFZ",
        "outputId": "406906c4-4c53-4267-c626-6c7b838c8f82"
      },
      "execution_count": null,
      "outputs": [
        {
          "output_type": "stream",
          "name": "stdout",
          "text": [
            "3\n",
            "27\n"
          ]
        }
      ]
    },
    {
      "cell_type": "markdown",
      "source": [
        "frequency of a char in the string"
      ],
      "metadata": {
        "id": "wa4k-pW4S7kM"
      }
    },
    {
      "cell_type": "code",
      "source": [
        "test_str = \"GeeksforGeeks\"\n",
        "all_freq = {}\n",
        "for i in test_str:\n",
        "  if i in all_freq:\n",
        "    all_freq[i] += 1\n",
        "  else:\n",
        "    all_freq[i] = 1\n",
        "print (str(all_freq))\n"
      ],
      "metadata": {
        "colab": {
          "base_uri": "https://localhost:8080/"
        },
        "id": "KOM6WvXISxPi",
        "outputId": "79e7bd85-2330-414d-e917-537a8ea7645b"
      },
      "execution_count": null,
      "outputs": [
        {
          "output_type": "stream",
          "name": "stdout",
          "text": [
            "{'G': 2, 'e': 4, 'k': 2, 's': 2, 'f': 1, 'o': 1, 'r': 1}\n"
          ]
        }
      ]
    },
    {
      "cell_type": "markdown",
      "source": [
        "number of digits in the string"
      ],
      "metadata": {
        "id": "8KHgt4epTew6"
      }
    },
    {
      "cell_type": "code",
      "source": [
        "str = \"tutorialsP0in564t\"\n",
        "digit=letter=0\n",
        "for ch in str:\n",
        "   if ch.isdigit():\n",
        "      digit=digit+1\n",
        "   elif ch.isalpha():\n",
        "      letter=letter+1\n",
        "   else:\n",
        "      pass\n",
        "print(\"Letters:\", letter)\n",
        "print(\"Digits:\", digit)"
      ],
      "metadata": {
        "colab": {
          "base_uri": "https://localhost:8080/"
        },
        "id": "pUlksni6TjO8",
        "outputId": "a3eef628-7a71-4a5f-bf4a-2b1eea826ea9"
      },
      "execution_count": null,
      "outputs": [
        {
          "output_type": "stream",
          "name": "stdout",
          "text": [
            "Letters: 13\n",
            "Digits: 4\n"
          ]
        }
      ]
    },
    {
      "cell_type": "markdown",
      "source": [
        "length of the string"
      ],
      "metadata": {
        "id": "F5tRN9maUziQ"
      }
    },
    {
      "cell_type": "code",
      "source": [
        "string = \"eeshwar and ruthvik are watching a movie\"\n",
        "print(len(string))"
      ],
      "metadata": {
        "colab": {
          "base_uri": "https://localhost:8080/"
        },
        "id": "pw7hNULsU1oL",
        "outputId": "26ca9bca-d925-4e6f-bbe8-ebf3f1288e71"
      },
      "execution_count": null,
      "outputs": [
        {
          "output_type": "stream",
          "name": "stdout",
          "text": [
            "40\n"
          ]
        }
      ]
    },
    {
      "cell_type": "markdown",
      "source": [
        "display the string in reverse order"
      ],
      "metadata": {
        "id": "5PYrTg6ZVOKT"
      }
    },
    {
      "cell_type": "code",
      "source": [
        "def wordReverse(str):\n",
        "  i = len(str)-1\n",
        "  start = end = i+1\n",
        "  result = ''\n",
        "  while i >= 0:\n",
        "    if str[i] == ' ':\n",
        "      start = i+1\n",
        "      while start != end:\n",
        "        result += str[start]\n",
        "        start += 1\n",
        "      result += ' '\n",
        "      end = i\n",
        "    i -= 1\n",
        "  start = 0\n",
        "  while start != end:\n",
        "    result += str[start]\n",
        "    start += 1\n",
        "  return result\n",
        "str = input()\n",
        "print(wordReverse(str))"
      ],
      "metadata": {
        "colab": {
          "base_uri": "https://localhost:8080/"
        },
        "id": "cPZFwUoCVClp",
        "outputId": "cf54b3da-8607-4b00-f96a-1f8cee0c9f15"
      },
      "execution_count": null,
      "outputs": [
        {
          "output_type": "stream",
          "name": "stdout",
          "text": [
            "i am eeshwar\n",
            "eeshwar am i\n"
          ]
        }
      ]
    },
    {
      "cell_type": "markdown",
      "source": [
        "accept names from user and display the capitalized name"
      ],
      "metadata": {
        "id": "UoM59lYeWCPh"
      }
    },
    {
      "cell_type": "code",
      "source": [
        "name = \"eeshwar\"\n",
        "print(name.capitalize())"
      ],
      "metadata": {
        "colab": {
          "base_uri": "https://localhost:8080/"
        },
        "id": "N34PDVG-VosC",
        "outputId": "564dc627-f5c2-4bb0-d7f9-891ce67312f6"
      },
      "execution_count": null,
      "outputs": [
        {
          "output_type": "stream",
          "name": "stdout",
          "text": [
            "Eeshwar\n"
          ]
        }
      ]
    },
    {
      "cell_type": "markdown",
      "source": [
        "number of words in a string"
      ],
      "metadata": {
        "id": "YJBLqsNFWgLY"
      }
    },
    {
      "cell_type": "code",
      "source": [
        "print(len(input().split()))\n"
      ],
      "metadata": {
        "colab": {
          "base_uri": "https://localhost:8080/"
        },
        "id": "xauE6FNjWWDD",
        "outputId": "60bc3215-f3cd-4eb4-c7f7-12cda4f18c47"
      },
      "execution_count": null,
      "outputs": [
        {
          "output_type": "stream",
          "name": "stdout",
          "text": [
            "ec rvvrtbtdce btrvcece tbt \n",
            "4\n"
          ]
        }
      ]
    },
    {
      "cell_type": "markdown",
      "source": [
        "number of vowels in the string"
      ],
      "metadata": {
        "id": "Mb5RESyYXpEA"
      }
    },
    {
      "cell_type": "code",
      "source": [
        "def vowel_count(str):\n",
        "  count = 0\n",
        "  vowel = set(\"aeiouAEIOU\")\n",
        "  for alphabet in str:\n",
        "      if alphabet in vowel:\n",
        "        count = count + 1\n",
        "\n",
        "  print(\"No. of vowels :\", count)\n",
        "str = \"GeeksforGeeks\"\n",
        "vowel_count(str)\n"
      ],
      "metadata": {
        "colab": {
          "base_uri": "https://localhost:8080/"
        },
        "id": "q1HL4elYXs3r",
        "outputId": "574adb07-e261-4991-a998-d20290afc075"
      },
      "execution_count": null,
      "outputs": [
        {
          "output_type": "stream",
          "name": "stdout",
          "text": [
            "No. of vowels : 5\n"
          ]
        }
      ]
    },
    {
      "cell_type": "markdown",
      "source": [
        "number of consonents in the string"
      ],
      "metadata": {
        "id": "n8VlPaYTZGv0"
      }
    },
    {
      "cell_type": "code",
      "source": [
        "def isConsonant(ch):\n",
        "  ch = ch.upper()\n",
        "\n",
        "  return not (ch == 'A' or ch == 'E' or\n",
        "        ch == 'I' or ch == 'O' or\n",
        "        ch == 'U') and ord(ch) >= 65 and ord(ch) <= 90\n",
        "def totalConsonants(string, n):\n",
        "\n",
        "  if n == 1:\n",
        "    return isConsonant(string[0])\n",
        "\n",
        "  return totalConsonants(string, n - 1) + isConsonant(string[n-1])\n",
        "string = \"abc de\"\n",
        "print(totalConsonants(string, len(string)))\n",
        "\n"
      ],
      "metadata": {
        "colab": {
          "base_uri": "https://localhost:8080/"
        },
        "id": "CIaPUYsLYLGS",
        "outputId": "3738934b-38d7-4f4e-cb38-331f85c53954"
      },
      "execution_count": null,
      "outputs": [
        {
          "output_type": "stream",
          "name": "stdout",
          "text": [
            "3\n"
          ]
        }
      ]
    },
    {
      "cell_type": "markdown",
      "source": [
        "check if string is palindrome"
      ],
      "metadata": {
        "id": "HCO2noA5ZqYU"
      }
    },
    {
      "cell_type": "code",
      "source": [
        "def isPalindrome(s):\n",
        "  return s == s[::-1]\n",
        "s = \"malayalam\"\n",
        "ans = isPalindrome(s)\n",
        "if ans:\n",
        "  print(\"Yes\")\n",
        "else:\n",
        "  print(\"No\")\n"
      ],
      "metadata": {
        "colab": {
          "base_uri": "https://localhost:8080/"
        },
        "id": "zau6RgPBZvjh",
        "outputId": "e9bef31e-99dc-4089-d264-78359de84c1b"
      },
      "execution_count": null,
      "outputs": [
        {
          "output_type": "stream",
          "name": "stdout",
          "text": [
            "Yes\n"
          ]
        }
      ]
    },
    {
      "cell_type": "markdown",
      "source": [
        "create string by replacing space with #"
      ],
      "metadata": {
        "id": "3QX9O3pGZ8NG"
      }
    },
    {
      "cell_type": "code",
      "source": [
        "string = \"eeshwar vijaya satish ruthvik\"\n",
        "print(string.replace(\" \",\"#\"))"
      ],
      "metadata": {
        "colab": {
          "base_uri": "https://localhost:8080/"
        },
        "id": "_QPL3dP0aA1N",
        "outputId": "815a9cf3-9c39-4428-d7bf-0dbfa45bed17"
      },
      "execution_count": null,
      "outputs": [
        {
          "output_type": "stream",
          "name": "stdout",
          "text": [
            "eeshwar#vijaya#satish#ruthvik\n"
          ]
        }
      ]
    },
    {
      "cell_type": "markdown",
      "source": [
        "create a string by appaending with !"
      ],
      "metadata": {
        "id": "zcGpqodqaalb"
      }
    },
    {
      "cell_type": "code",
      "source": [
        "string1 = \"my name is eeshwar\"\n",
        "string2 = \"hello, good morning\"\n",
        "string1 += string2\n",
        "print(string1)"
      ],
      "metadata": {
        "colab": {
          "base_uri": "https://localhost:8080/"
        },
        "id": "BrZmLUxMafx1",
        "outputId": "921f2d43-b1d5-41dc-9180-1301e71319c1"
      },
      "execution_count": null,
      "outputs": [
        {
          "output_type": "stream",
          "name": "stdout",
          "text": [
            "my name is eeshwarhello, good morning\n"
          ]
        }
      ]
    },
    {
      "cell_type": "markdown",
      "source": [
        "create string by replacing digits with #"
      ],
      "metadata": {
        "id": "i9WTb1cecY0G"
      }
    },
    {
      "cell_type": "code",
      "source": [
        "test_str = 'G4G is 4 all No. 1 Geeks'\n",
        "K = '#'\n",
        "for ele in test_str:\n",
        "  if ele.isdigit():\n",
        "    test_str = test_str.replace(ele, K)\n",
        "print(test_str)"
      ],
      "metadata": {
        "colab": {
          "base_uri": "https://localhost:8080/"
        },
        "id": "LsC8X0tcbDIS",
        "outputId": "6b75ef83-059e-4292-a09a-2c481df0cad9"
      },
      "execution_count": null,
      "outputs": [
        {
          "output_type": "stream",
          "name": "stdout",
          "text": [
            "G#G is # all No. # Geeks\n"
          ]
        }
      ]
    },
    {
      "cell_type": "markdown",
      "source": [
        "check if given number is positive, negative or 0"
      ],
      "metadata": {
        "id": "p0nX59zvejzO"
      }
    },
    {
      "cell_type": "code",
      "source": [
        "n = float(input(\"Input a number: \"))\n",
        "if n >= 0:\n",
        "  if n == 0:\n",
        "      print(\"It is Zero!\")\n",
        "  else:\n",
        "      print(\"Number is Positive number.\")\n",
        "else:\n",
        "  print(\"Number is Negative number.\")\n",
        ""
      ],
      "metadata": {
        "colab": {
          "base_uri": "https://localhost:8080/"
        },
        "id": "lh85zFC9d0WE",
        "outputId": "be1cfc73-08f1-4604-a5ee-643a4f52d530"
      },
      "execution_count": null,
      "outputs": [
        {
          "output_type": "stream",
          "name": "stdout",
          "text": [
            "Input a number: -45\n",
            "Number is Negative number.\n"
          ]
        }
      ]
    },
    {
      "cell_type": "markdown",
      "source": [
        "check if even or odd"
      ],
      "metadata": {
        "id": "szUAPxy1LMB5"
      }
    },
    {
      "cell_type": "code",
      "source": [
        "num = int(input(\"Enter a number: \"))\n",
        "if (num % 2) == 0:\n",
        "   print(\"{0} is Even\".format(num))\n",
        "else:\n",
        "   print(\"{0} is Odd\".format(num))"
      ],
      "metadata": {
        "colab": {
          "base_uri": "https://localhost:8080/"
        },
        "id": "eunLxc4LLhm8",
        "outputId": "9d9d40f8-eca1-4dbe-8bd7-021db59297ab"
      },
      "execution_count": null,
      "outputs": [
        {
          "output_type": "stream",
          "name": "stdout",
          "text": [
            "Enter a number: 5\n",
            "5 is Odd\n"
          ]
        }
      ]
    },
    {
      "cell_type": "markdown",
      "source": [
        "find smaller / bigger of two"
      ],
      "metadata": {
        "id": "Ndvrhc9tLoSr"
      }
    },
    {
      "cell_type": "code",
      "source": [
        "a = int(input())\n",
        "b = int(input())\n",
        "minimum = min(a, b)\n",
        "maximum = max(a, b)\n",
        "print(maximum)\n",
        "print(minimum)"
      ],
      "metadata": {
        "colab": {
          "base_uri": "https://localhost:8080/"
        },
        "id": "Tmjb33MKL4Bc",
        "outputId": "3a2626e3-6470-45f5-9b5b-8ca3d19f1d54"
      },
      "execution_count": null,
      "outputs": [
        {
          "output_type": "stream",
          "name": "stdout",
          "text": [
            "6\n",
            "8\n",
            "8\n",
            "6\n"
          ]
        }
      ]
    },
    {
      "cell_type": "markdown",
      "source": [
        "biggest or smallest of 3"
      ],
      "metadata": {
        "id": "p8avgpEWM3Oj"
      }
    },
    {
      "cell_type": "code",
      "source": [
        "a = int(input())\n",
        "b = int(input())\n",
        "c = int(input())\n",
        "minimum = min(a, b, c)\n",
        "maximum = max(a, b, c)\n",
        "print(maximum)\n",
        "print(minimum)"
      ],
      "metadata": {
        "colab": {
          "base_uri": "https://localhost:8080/"
        },
        "id": "oHLHb_KBMtxz",
        "outputId": "9a3a5b21-2fe2-4fb6-ce1b-52f1ea19d05e"
      },
      "execution_count": null,
      "outputs": [
        {
          "output_type": "stream",
          "name": "stdout",
          "text": [
            "7\n",
            "10\n",
            "13\n",
            "13\n",
            "7\n"
          ]
        }
      ]
    },
    {
      "cell_type": "markdown",
      "source": [
        "check pass, fail, distinction"
      ],
      "metadata": {
        "id": "bVWzOgOKNPor"
      }
    },
    {
      "cell_type": "code",
      "source": [
        "StudentMarks  = int(input())\n",
        "if StudentMarks >= 90:\n",
        "    print('Student secured grade A ')\n",
        "elif StudentMarks >= 80:\n",
        "    print('Student secured grade B ')\n",
        "elif StudentMarks >= 70:\n",
        "    print('Student secured grade C ')\n",
        "elif StudentMarks >= 60:\n",
        "    print('Student secured grade D ')\n",
        "elif StudentMarks >= 50:\n",
        "    print('Student secured grade E')\n",
        "elif StudentMarks <= 40:\n",
        "    print('Failed')"
      ],
      "metadata": {
        "colab": {
          "base_uri": "https://localhost:8080/"
        },
        "id": "7FHQM0spNEuV",
        "outputId": "dc26cfda-5750-4d73-e466-e9f6109d2504"
      },
      "execution_count": null,
      "outputs": [
        {
          "output_type": "stream",
          "name": "stdout",
          "text": [
            "34\n",
            "Failed\n"
          ]
        }
      ]
    },
    {
      "cell_type": "markdown",
      "source": [
        "check if 3 points are collinear"
      ],
      "metadata": {
        "id": "Yx1A6PpuPd__"
      }
    },
    {
      "cell_type": "code",
      "source": [],
      "metadata": {
        "id": "LNAzixgGN7k3"
      },
      "execution_count": null,
      "outputs": []
    }
  ]
}