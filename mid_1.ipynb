{
  "cells": [
    {
      "cell_type": "markdown",
      "metadata": {
        "id": "JzQ_tzyb1XiZ"
      },
      "source": [
        "Write a program to separate student names belonging to a class alphabetically.\n",
        "Use appropriate python data type (Should make use of lists and sorting).\n",
        "a. Test case: Enter student names: ravi, ameen, saraf, rahul, kanaka\n",
        "b. Student names sorted: [“ameen”, “kanaka”, “rahul”, “ravi”, “saraf”]"
      ]
    },
    {
      "cell_type": "code",
      "execution_count": null,
      "metadata": {
        "colab": {
          "base_uri": "https://localhost:8080/"
        },
        "id": "-lEMh0Fx1a6y",
        "outputId": "458c4406-2692-4444-b8b6-013958b567c6"
      },
      "outputs": [
        {
          "name": "stdout",
          "output_type": "stream",
          "text": [
            "['ameen', 'kanaka', 'rahul', 'ravi', 'saraf']\n"
          ]
        }
      ],
      "source": [
        "list = [\"ravi\", \"ameen\", \"saraf\", \"rahul\", \"kanaka\"]\n",
        "list.sort(key=str.lower)\n",
        "print(list)"
      ]
    },
    {
      "cell_type": "markdown",
      "metadata": {
        "id": "BP3M02nw7P1y"
      },
      "source": [
        "Display numbers divisible by 5 from a list"
      ]
    },
    {
      "cell_type": "code",
      "execution_count": null,
      "metadata": {
        "colab": {
          "base_uri": "https://localhost:8080/"
        },
        "id": "9Lu5s5Wr7YUP",
        "outputId": "44a98d7d-d2ff-404e-d024-ebc3facd6922"
      },
      "outputs": [
        {
          "name": "stdout",
          "output_type": "stream",
          "text": [
            "5\n",
            "20\n",
            "25\n",
            "10\n",
            "None\n"
          ]
        }
      ],
      "source": [
        "def divisiable_by_5(l):\n",
        "  for num in l:\n",
        "      if num % 5 == 0:\n",
        "           print(num)\n",
        "x=[5,12,14,18,20,25,10]\n",
        "print(divisiable_by_5(x))"
      ]
    },
    {
      "cell_type": "markdown",
      "metadata": {
        "id": "Z8eL51rp80fo"
      },
      "source": [
        "Write a Python program to create Fibonacci series upto n using Lambda"
      ]
    },
    {
      "cell_type": "code",
      "execution_count": null,
      "metadata": {
        "colab": {
          "base_uri": "https://localhost:8080/"
        },
        "id": "kRnXLIm49SZC",
        "outputId": "f1c155b9-f588-4bc8-a306-ed26e4b6072c"
      },
      "outputs": [
        {
          "name": "stdout",
          "output_type": "stream",
          "text": [
            "[0, 1, 1, 2, 3, 5, 8, 13, 21, 34]\n"
          ]
        }
      ],
      "source": [
        "from functools import reduce\n",
        "\n",
        "fib = lambda n: reduce(lambda x, _: x+[x[-1]+x[-2]],range(n-2), [0, 1])\n",
        "\n",
        "print(fib(10))\n"
      ]
    },
    {
      "cell_type": "markdown",
      "metadata": {
        "id": "ak9DjF4J--D5"
      },
      "source": [
        "Write a program to pass two integer numbers to a function and perform following\n",
        "a. divide and round off the result (Test Case:: input: 177 , 12 output: 14)\n",
        "b. Modulus and ceil the result (Test Case:: iinput: 177 , 13 output: 8)"
      ]
    },
    {
      "cell_type": "code",
      "execution_count": null,
      "metadata": {
        "colab": {
          "base_uri": "https://localhost:8080/"
        },
        "id": "mlKMBcgj_Kdq",
        "outputId": "f8ed7485-83ea-420e-f943-a5e5d99a60ac"
      },
      "outputs": [
        {
          "name": "stdout",
          "output_type": "stream",
          "text": [
            "177\n",
            "13\n",
            "14\n",
            "8\n"
          ]
        }
      ],
      "source": [
        "import math\n",
        "a = int(input())\n",
        "b = int(input())\n",
        "c = a/b\n",
        "d = a%b\n",
        "print(round(c))\n",
        "print(math.ceil(d))\n"
      ]
    },
    {
      "cell_type": "markdown",
      "metadata": {
        "id": "SRjder83BmCc"
      },
      "source": [
        "Write a program to eliminate duplicate values in the list\n",
        "Test Case: Input: [1,2,3,55,6,3,55,7]\n",
        "Output: [1,2,3,55,6,7]"
      ]
    },
    {
      "cell_type": "code",
      "execution_count": null,
      "metadata": {
        "colab": {
          "base_uri": "https://localhost:8080/"
        },
        "id": "1PDCm4n5Bwhw",
        "outputId": "5add44e9-69be-44e8-bcd7-ba9414bb9ce0"
      },
      "outputs": [
        {
          "name": "stdout",
          "output_type": "stream",
          "text": [
            "{1, 2, 3, 6, 7, 55}\n"
          ]
        }
      ],
      "source": [
        "a = [1,2,3,55,6,3,55,7]\n",
        "dup_items = set()\n",
        "uniq_items = []\n",
        "for x in a:\n",
        "    if x not in dup_items:\n",
        "        uniq_items.append(x)\n",
        "        dup_items.add(x)\n",
        "print(dup_items)\n"
      ]
    },
    {
      "cell_type": "markdown",
      "metadata": {
        "id": "2VU1kRyxCROh"
      },
      "source": [
        "12 boys and 15 girls are to march in a parade. The organizer wants them to\n",
        "march in rows, with each row having the same number of children, and with\n",
        "each row composed of children with the same gender. What is the largest\n",
        "number of children per row that satisfies these constraints-Write a python\n",
        "program/instruction(s)?"
      ]
    },
    {
      "cell_type": "code",
      "execution_count": null,
      "metadata": {
        "colab": {
          "base_uri": "https://localhost:8080/"
        },
        "id": "y-5ao13aCVkS",
        "outputId": "2c54ecd0-f7d2-4043-d3de-d11de7f2022f"
      },
      "outputs": [
        {
          "name": "stdout",
          "output_type": "stream",
          "text": [
            "3\n"
          ]
        }
      ],
      "source": [
        "\n",
        "def gcd(a, b):\n",
        "  if (b == 0):\n",
        "    return a\n",
        "\n",
        "  return gcd(b, a % b)\n",
        "\n",
        "def maximumRowValue(n, m):\n",
        "  return gcd(n, m)\n",
        "\n",
        "\n",
        "if __name__ == '__main__':\n",
        "\n",
        "  N = 12\n",
        "  M = 15\n",
        "\n",
        "  print(maximumRowValue(N, M))\n",
        "\n",
        "\n"
      ]
    },
    {
      "cell_type": "markdown",
      "metadata": {
        "id": "U6or0JlaDI7o"
      },
      "source": [
        "A rectangular floor measures 300 cm×195 cm 300 cm×195 cm. What is the\n",
        "largest square tiles that can be used to cover the floor exactly-Write a python\n",
        "program/instruction(s)"
      ]
    },
    {
      "cell_type": "code",
      "execution_count": 1,
      "metadata": {
        "id": "RzmQuSDfDPIu"
      },
      "outputs": [
        {
          "name": "stdout",
          "output_type": "stream",
          "text": [
            "The largest square tile that can cover the floor exactly is 23 cm by 23 cm.\n"
          ]
        }
      ],
      "source": [
        "# Function to calculate GCD using the Euclidean algorithm\n",
        "def gcd(a, b):\n",
        "    while b:\n",
        "        a, b = b, a % b\n",
        "    return a\n",
        "\n",
        "# Take runtime input for the dimensions of the floor\n",
        "length = int(input(\"Enter the length of the floor in cm: \"))\n",
        "width = int(input(\"Enter the width of the floor in cm: \"))\n",
        "\n",
        "# Find the size of the largest square tile\n",
        "tile_size = gcd(length, width)\n",
        "\n",
        "print(f\"The largest square tile that can cover the floor exactly is {tile_size} cm by {tile_size} cm.\")\n"
      ]
    },
    {
      "cell_type": "markdown",
      "metadata": {
        "id": "k1sUTkTbEUol"
      },
      "source": [
        "Find the gcd of 450,156."
      ]
    },
    {
      "cell_type": "code",
      "execution_count": null,
      "metadata": {
        "colab": {
          "base_uri": "https://localhost:8080/"
        },
        "id": "SpKioGrNEr27",
        "outputId": "984ca4ab-5a29-472f-c161-a4b1c134d9c6"
      },
      "outputs": [
        {
          "name": "stdout",
          "output_type": "stream",
          "text": [
            "6\n"
          ]
        }
      ],
      "source": [
        "def gcd(x, y):\n",
        "\n",
        "    if x > y:\n",
        "        smaller = y\n",
        "    else:\n",
        "        smaller = x\n",
        "    for i in range(1, smaller+1):\n",
        "        if((x % i == 0) and (y % i == 0)):\n",
        "            hcf = i\n",
        "    return hcf\n",
        "\n",
        "num1 = 450\n",
        "num2 = 156\n",
        "\n",
        "print(gcd(num1, num2))\n"
      ]
    },
    {
      "cell_type": "markdown",
      "metadata": {
        "id": "fqJ6PE9nFmMg"
      },
      "source": [
        "Two rods are 22 m and 26 m long. The rods are to be cut into pieces of equal length. Find\n",
        "the maximum length of each piece."
      ]
    },
    {
      "cell_type": "code",
      "execution_count": null,
      "metadata": {
        "colab": {
          "base_uri": "https://localhost:8080/"
        },
        "id": "wSvlEg8jE9bw",
        "outputId": "4ea9eb21-effe-446d-96e2-ad5c0533666f"
      },
      "outputs": [
        {
          "name": "stdout",
          "output_type": "stream",
          "text": [
            "2\n"
          ]
        }
      ],
      "source": [
        "def gcd(x, y):\n",
        "\n",
        "    if x > y:\n",
        "        smaller = y\n",
        "    else:\n",
        "        smaller = x\n",
        "    for i in range(1, smaller+1):\n",
        "        if((x % i == 0) and (y % i == 0)):\n",
        "            hcf = i\n",
        "    return hcf\n",
        "\n",
        "num1 = 22\n",
        "num2 = 26\n",
        "\n",
        "print(gcd(num1, num2))"
      ]
    },
    {
      "cell_type": "markdown",
      "metadata": {
        "id": "5RrUNRKdGYmf"
      },
      "source": [
        "A shopkeeper has 420 balls and 130 bats to pack in a day. She wants to pack them in such\n",
        "a way that each set has the same number in a box, and they take up the least area of the\n",
        "box. What is the number that can be placed in each set for this packing purpose?"
      ]
    },
    {
      "cell_type": "code",
      "execution_count": null,
      "metadata": {
        "colab": {
          "base_uri": "https://localhost:8080/"
        },
        "id": "-jo8Jgh-FjG4",
        "outputId": "b557a40c-d893-4abb-a910-9073c6c3dad1"
      },
      "outputs": [
        {
          "name": "stdout",
          "output_type": "stream",
          "text": [
            "10\n"
          ]
        }
      ],
      "source": [
        "def gcd(x, y):\n",
        "\n",
        "    if x > y:\n",
        "        smaller = y\n",
        "    else:\n",
        "        smaller = x\n",
        "    for i in range(1, smaller+1):\n",
        "        if((x % i == 0) and (y % i == 0)):\n",
        "            hcf = i\n",
        "    return hcf\n",
        "\n",
        "num1 = 420\n",
        "num2 = 130\n",
        "\n",
        "print(gcd(num1, num2))"
      ]
    },
    {
      "cell_type": "markdown",
      "metadata": {
        "id": "cV8d2I2UGtr1"
      },
      "source": [
        "covert F to C degrees c = 5/9(F-32) e"
      ]
    },
    {
      "cell_type": "code",
      "execution_count": null,
      "metadata": {
        "colab": {
          "base_uri": "https://localhost:8080/"
        },
        "id": "xjYPF2edGnZe",
        "outputId": "126418fe-707a-4d2c-bed6-e9548a5e2759"
      },
      "outputs": [
        {
          "name": "stdout",
          "output_type": "stream",
          "text": [
            "69\n",
            "21\n"
          ]
        }
      ],
      "source": [
        "f = int(input())\n",
        "c = (5/9)*(f-32)\n",
        "print(round(c))"
      ]
    },
    {
      "cell_type": "markdown",
      "metadata": {
        "id": "SfHw8iY_InzE"
      },
      "source": [
        "centimeters to inches 1 inch= 2.54cm"
      ]
    },
    {
      "cell_type": "code",
      "execution_count": null,
      "metadata": {
        "colab": {
          "base_uri": "https://localhost:8080/"
        },
        "id": "izlj0lCpHOZw",
        "outputId": "c2726ce0-2f00-4196-b6b1-c2c5ed4a2f71"
      },
      "outputs": [
        {
          "name": "stdout",
          "output_type": "stream",
          "text": [
            "30\n",
            "12\n"
          ]
        }
      ],
      "source": [
        "inch = int(input())\n",
        "c = inch/2.54\n",
        "print(round(c))"
      ]
    },
    {
      "cell_type": "markdown",
      "metadata": {
        "id": "eGs0SKCbJlth"
      },
      "source": [
        "miles to KM 1 km= 1.609 miles"
      ]
    },
    {
      "cell_type": "code",
      "execution_count": null,
      "metadata": {
        "colab": {
          "base_uri": "https://localhost:8080/"
        },
        "id": "MmC5ZFOzJBx4",
        "outputId": "f50e30df-218c-495b-a86d-96fc81dc9896"
      },
      "outputs": [
        {
          "name": "stdout",
          "output_type": "stream",
          "text": [
            "2\n",
            "3\n"
          ]
        }
      ],
      "source": [
        "k = int(input())\n",
        "m = k*1.609\n",
        "print(round(m))"
      ]
    },
    {
      "cell_type": "markdown",
      "metadata": {
        "id": "pgQfm3YcJ_78"
      },
      "source": [
        "KG to pound 1kg = 2.204 pounds"
      ]
    },
    {
      "cell_type": "code",
      "execution_count": null,
      "metadata": {
        "colab": {
          "base_uri": "https://localhost:8080/"
        },
        "id": "0xj1LuUAJ7OL",
        "outputId": "3f4c1282-6c3c-4447-cbc7-834384d24d10"
      },
      "outputs": [
        {
          "name": "stdout",
          "output_type": "stream",
          "text": [
            "78\n",
            "35\n"
          ]
        }
      ],
      "source": [
        "k = int(input())\n",
        "g = k/2.204\n",
        "print(round(g))"
      ]
    },
    {
      "cell_type": "markdown",
      "metadata": {
        "id": "Hiwucw6XKWd3"
      },
      "source": [
        "gallons to liters 1 gallon= 3.785"
      ]
    },
    {
      "cell_type": "code",
      "execution_count": null,
      "metadata": {
        "colab": {
          "base_uri": "https://localhost:8080/"
        },
        "id": "7qmHGRTNKN6L",
        "outputId": "4e9672cc-b750-4f0d-d245-7fdb9879bc39"
      },
      "outputs": [
        {
          "name": "stdout",
          "output_type": "stream",
          "text": [
            "6\n",
            "22.71\n"
          ]
        }
      ],
      "source": [
        "g = int(input())\n",
        "l = g*3.785\n",
        "print(l)"
      ]
    },
    {
      "cell_type": "markdown",
      "metadata": {
        "id": "fkrSpkydLJlT"
      },
      "source": [
        "ounce to liters 1 ounce = 0.02 96"
      ]
    },
    {
      "cell_type": "code",
      "execution_count": null,
      "metadata": {
        "colab": {
          "base_uri": "https://localhost:8080/"
        },
        "id": "eXvE91O7KpKT",
        "outputId": "eebb102b-46b7-41e8-9d25-b5d7b36f0170"
      },
      "outputs": [
        {
          "name": "stdout",
          "output_type": "stream",
          "text": [
            "2\n",
            "0.0592\n"
          ]
        }
      ],
      "source": [
        "o = int(input())\n",
        "l = o*0.0296\n",
        "print(l)"
      ]
    },
    {
      "cell_type": "markdown",
      "metadata": {
        "id": "JVJFTWCoL-jO"
      },
      "source": [
        "minutes & seconds to hours"
      ]
    },
    {
      "cell_type": "code",
      "execution_count": null,
      "metadata": {
        "colab": {
          "base_uri": "https://localhost:8080/"
        },
        "id": "nDg8n-xMLi5f",
        "outputId": "4b8c8a48-272a-4dfd-b886-68394fc921c2"
      },
      "outputs": [
        {
          "name": "stdout",
          "output_type": "stream",
          "text": [
            "72\n",
            "5665\n",
            "1.2\n",
            "1.573611111111111\n"
          ]
        }
      ],
      "source": [
        "m = int(input())\n",
        "s = int(input())\n",
        "h1 = m/60\n",
        "h2 = s/3600\n",
        "print(h1)\n",
        "print(h2)"
      ]
    },
    {
      "cell_type": "markdown",
      "metadata": {
        "id": "jonNurfONVY1"
      },
      "source": [
        "days to hours"
      ]
    },
    {
      "cell_type": "code",
      "execution_count": null,
      "metadata": {
        "colab": {
          "base_uri": "https://localhost:8080/"
        },
        "id": "hdipK9p1Mdk9",
        "outputId": "287a5146-91b2-4371-e20b-6b4817821553"
      },
      "outputs": [
        {
          "name": "stdout",
          "output_type": "stream",
          "text": [
            "7\n",
            "168\n"
          ]
        }
      ],
      "source": [
        "d = int(input())\n",
        "h = d*24\n",
        "print(h)"
      ]
    },
    {
      "cell_type": "markdown",
      "metadata": {
        "id": "R9hqjvP2NzhO"
      },
      "source": [
        "$ to Rs"
      ]
    },
    {
      "cell_type": "code",
      "execution_count": null,
      "metadata": {
        "colab": {
          "base_uri": "https://localhost:8080/"
        },
        "id": "-xhZ9G5DNvoB",
        "outputId": "fd27cd3d-6d54-48a3-96bd-c7d8be1bc1fa"
      },
      "outputs": [
        {
          "name": "stdout",
          "output_type": "stream",
          "text": [
            "7\n",
            "560\n"
          ]
        }
      ],
      "source": [
        "dollar = int(input())\n",
        "rupees = dollar*80\n",
        "print(rupees)"
      ]
    },
    {
      "cell_type": "markdown",
      "metadata": {
        "id": "Chl3IB6JPV4W"
      },
      "source": [
        "find acceleration of object a= v/t e"
      ]
    },
    {
      "cell_type": "code",
      "execution_count": null,
      "metadata": {
        "colab": {
          "base_uri": "https://localhost:8080/"
        },
        "id": "NHvdmszKOfdD",
        "outputId": "dff1df14-5348-45ca-bc76-5bc30a40f100"
      },
      "outputs": [
        {
          "name": "stdout",
          "output_type": "stream",
          "text": [
            "30\n",
            "4\n",
            "7.5\n"
          ]
        }
      ],
      "source": [
        "v = int(input())\n",
        "t = int(input())\n",
        "a = v/t\n",
        "print(a)"
      ]
    },
    {
      "cell_type": "markdown",
      "metadata": {
        "id": "bo2H831HPxSV"
      },
      "source": [
        "find kinetic energy 1/2 m V^2"
      ]
    },
    {
      "cell_type": "code",
      "execution_count": null,
      "metadata": {
        "colab": {
          "base_uri": "https://localhost:8080/"
        },
        "id": "uz3HQJ2YPtlN",
        "outputId": "6c083a6d-ef61-49c9-d145-470610b611d8"
      },
      "outputs": [
        {
          "name": "stdout",
          "output_type": "stream",
          "text": [
            "4\n",
            "5\n",
            "50.0\n"
          ]
        }
      ],
      "source": [
        "m = int(input())\n",
        "V = int(input())\n",
        "k = 1/2*m*V*V\n",
        "print(k)"
      ]
    },
    {
      "cell_type": "markdown",
      "metadata": {
        "id": "rBmGzk88QVGH"
      },
      "source": [
        "find momentum p= mV"
      ]
    },
    {
      "cell_type": "code",
      "execution_count": null,
      "metadata": {
        "colab": {
          "base_uri": "https://localhost:8080/"
        },
        "id": "jK8me7zFQP70",
        "outputId": "3c303b34-1ea7-4cd2-f560-83b9bf1671a2"
      },
      "outputs": [
        {
          "name": "stdout",
          "output_type": "stream",
          "text": [
            "5\n",
            "6\n",
            "30\n"
          ]
        }
      ],
      "source": [
        "m = int(input())\n",
        "v = int(input())\n",
        "p = m*v\n",
        "print(p)"
      ]
    },
    {
      "cell_type": "markdown",
      "metadata": {
        "id": "KJa_dcfpQ1Pw"
      },
      "source": [
        "bytes to KB, MB"
      ]
    },
    {
      "cell_type": "code",
      "execution_count": null,
      "metadata": {
        "colab": {
          "base_uri": "https://localhost:8080/"
        },
        "id": "LUG_Gk30Q6Fu",
        "outputId": "17795eac-802b-4695-8034-6241a6f76287"
      },
      "outputs": [
        {
          "name": "stdout",
          "output_type": "stream",
          "text": [
            "6\n",
            "0.006\n",
            "6e-06\n"
          ]
        }
      ],
      "source": [
        "b = int(input())\n",
        "kb = b/1000\n",
        "mb = b/1000000\n",
        "print(kb)\n",
        "print(mb)\n"
      ]
    },
    {
      "cell_type": "markdown",
      "metadata": {
        "id": "YYbcw1NbSPka"
      },
      "source": [
        "yards to sq feet 1yard= 9 sq ft"
      ]
    },
    {
      "cell_type": "code",
      "execution_count": null,
      "metadata": {
        "colab": {
          "base_uri": "https://localhost:8080/"
        },
        "id": "pfe94R1WSTFZ",
        "outputId": "406906c4-4c53-4267-c626-6c7b838c8f82"
      },
      "outputs": [
        {
          "name": "stdout",
          "output_type": "stream",
          "text": [
            "3\n",
            "27\n"
          ]
        }
      ],
      "source": [
        "y = int(input())\n",
        "sqf = 9*y\n",
        "print(sqf)\n"
      ]
    },
    {
      "cell_type": "markdown",
      "metadata": {
        "id": "wa4k-pW4S7kM"
      },
      "source": [
        "frequency of a char in the string"
      ]
    },
    {
      "cell_type": "code",
      "execution_count": null,
      "metadata": {
        "colab": {
          "base_uri": "https://localhost:8080/"
        },
        "id": "KOM6WvXISxPi",
        "outputId": "79e7bd85-2330-414d-e917-537a8ea7645b"
      },
      "outputs": [
        {
          "name": "stdout",
          "output_type": "stream",
          "text": [
            "{'G': 2, 'e': 4, 'k': 2, 's': 2, 'f': 1, 'o': 1, 'r': 1}\n"
          ]
        }
      ],
      "source": [
        "test_str = \"GeeksforGeeks\"\n",
        "all_freq = {}\n",
        "for i in test_str:\n",
        "  if i in all_freq:\n",
        "    all_freq[i] += 1\n",
        "  else:\n",
        "    all_freq[i] = 1\n",
        "print (str(all_freq))\n"
      ]
    },
    {
      "cell_type": "markdown",
      "metadata": {
        "id": "8KHgt4epTew6"
      },
      "source": [
        "number of digits in the string"
      ]
    },
    {
      "cell_type": "code",
      "execution_count": null,
      "metadata": {
        "colab": {
          "base_uri": "https://localhost:8080/"
        },
        "id": "pUlksni6TjO8",
        "outputId": "a3eef628-7a71-4a5f-bf4a-2b1eea826ea9"
      },
      "outputs": [
        {
          "name": "stdout",
          "output_type": "stream",
          "text": [
            "Letters: 13\n",
            "Digits: 4\n"
          ]
        }
      ],
      "source": [
        "str = \"tutorialsP0in564t\"\n",
        "digit=letter=0\n",
        "for ch in str:\n",
        "   if ch.isdigit():\n",
        "      digit=digit+1\n",
        "   elif ch.isalpha():\n",
        "      letter=letter+1\n",
        "   else:\n",
        "      pass\n",
        "print(\"Letters:\", letter)\n",
        "print(\"Digits:\", digit)"
      ]
    },
    {
      "cell_type": "markdown",
      "metadata": {
        "id": "F5tRN9maUziQ"
      },
      "source": [
        "length of the string"
      ]
    },
    {
      "cell_type": "code",
      "execution_count": null,
      "metadata": {
        "colab": {
          "base_uri": "https://localhost:8080/"
        },
        "id": "pw7hNULsU1oL",
        "outputId": "26ca9bca-d925-4e6f-bbe8-ebf3f1288e71"
      },
      "outputs": [
        {
          "name": "stdout",
          "output_type": "stream",
          "text": [
            "40\n"
          ]
        }
      ],
      "source": [
        "string = \"eeshwar and ruthvik are watching a movie\"\n",
        "print(len(string))"
      ]
    },
    {
      "cell_type": "markdown",
      "metadata": {
        "id": "5PYrTg6ZVOKT"
      },
      "source": [
        "display the string in reverse order"
      ]
    },
    {
      "cell_type": "code",
      "execution_count": null,
      "metadata": {
        "colab": {
          "base_uri": "https://localhost:8080/"
        },
        "id": "cPZFwUoCVClp",
        "outputId": "cf54b3da-8607-4b00-f96a-1f8cee0c9f15"
      },
      "outputs": [
        {
          "name": "stdout",
          "output_type": "stream",
          "text": [
            "i am eeshwar\n",
            "eeshwar am i\n"
          ]
        }
      ],
      "source": [
        "def wordReverse(str):\n",
        "  i = len(str)-1\n",
        "  start = end = i+1\n",
        "  result = ''\n",
        "  while i >= 0:\n",
        "    if str[i] == ' ':\n",
        "      start = i+1\n",
        "      while start != end:\n",
        "        result += str[start]\n",
        "        start += 1\n",
        "      result += ' '\n",
        "      end = i\n",
        "    i -= 1\n",
        "  start = 0\n",
        "  while start != end:\n",
        "    result += str[start]\n",
        "    start += 1\n",
        "  return result\n",
        "str = input()\n",
        "print(wordReverse(str))"
      ]
    },
    {
      "cell_type": "markdown",
      "metadata": {
        "id": "UoM59lYeWCPh"
      },
      "source": [
        "accept names from user and display the capitalized name"
      ]
    },
    {
      "cell_type": "code",
      "execution_count": null,
      "metadata": {
        "colab": {
          "base_uri": "https://localhost:8080/"
        },
        "id": "N34PDVG-VosC",
        "outputId": "564dc627-f5c2-4bb0-d7f9-891ce67312f6"
      },
      "outputs": [
        {
          "name": "stdout",
          "output_type": "stream",
          "text": [
            "Eeshwar\n"
          ]
        }
      ],
      "source": [
        "name = \"eeshwar\"\n",
        "print(name.capitalize())"
      ]
    },
    {
      "cell_type": "markdown",
      "metadata": {
        "id": "YJBLqsNFWgLY"
      },
      "source": [
        "number of words in a string"
      ]
    },
    {
      "cell_type": "code",
      "execution_count": null,
      "metadata": {
        "colab": {
          "base_uri": "https://localhost:8080/"
        },
        "id": "xauE6FNjWWDD",
        "outputId": "60bc3215-f3cd-4eb4-c7f7-12cda4f18c47"
      },
      "outputs": [
        {
          "name": "stdout",
          "output_type": "stream",
          "text": [
            "ec rvvrtbtdce btrvcece tbt \n",
            "4\n"
          ]
        }
      ],
      "source": [
        "print(len(input().split()))\n"
      ]
    },
    {
      "cell_type": "markdown",
      "metadata": {
        "id": "Mb5RESyYXpEA"
      },
      "source": [
        "number of vowels in the string"
      ]
    },
    {
      "cell_type": "code",
      "execution_count": null,
      "metadata": {
        "colab": {
          "base_uri": "https://localhost:8080/"
        },
        "id": "q1HL4elYXs3r",
        "outputId": "574adb07-e261-4991-a998-d20290afc075"
      },
      "outputs": [
        {
          "name": "stdout",
          "output_type": "stream",
          "text": [
            "No. of vowels : 5\n"
          ]
        }
      ],
      "source": [
        "def vowel_count(str):\n",
        "  count = 0\n",
        "  vowel = set(\"aeiouAEIOU\")\n",
        "  for alphabet in str:\n",
        "      if alphabet in vowel:\n",
        "        count = count + 1\n",
        "\n",
        "  print(\"No. of vowels :\", count)\n",
        "str = \"GeeksforGeeks\"\n",
        "vowel_count(str)\n"
      ]
    },
    {
      "cell_type": "markdown",
      "metadata": {
        "id": "n8VlPaYTZGv0"
      },
      "source": [
        "number of consonents in the string"
      ]
    },
    {
      "cell_type": "code",
      "execution_count": null,
      "metadata": {
        "colab": {
          "base_uri": "https://localhost:8080/"
        },
        "id": "CIaPUYsLYLGS",
        "outputId": "3738934b-38d7-4f4e-cb38-331f85c53954"
      },
      "outputs": [
        {
          "name": "stdout",
          "output_type": "stream",
          "text": [
            "3\n"
          ]
        }
      ],
      "source": [
        "def isConsonant(ch):\n",
        "  ch = ch.upper()\n",
        "\n",
        "  return not (ch == 'A' or ch == 'E' or\n",
        "        ch == 'I' or ch == 'O' or\n",
        "        ch == 'U') and ord(ch) >= 65 and ord(ch) <= 90\n",
        "def totalConsonants(string, n):\n",
        "\n",
        "  if n == 1:\n",
        "    return isConsonant(string[0])\n",
        "\n",
        "  return totalConsonants(string, n - 1) + isConsonant(string[n-1])\n",
        "string = \"abc de\"\n",
        "print(totalConsonants(string, len(string)))\n",
        "\n"
      ]
    },
    {
      "cell_type": "markdown",
      "metadata": {
        "id": "HCO2noA5ZqYU"
      },
      "source": [
        "check if string is palindrome"
      ]
    },
    {
      "cell_type": "code",
      "execution_count": null,
      "metadata": {
        "colab": {
          "base_uri": "https://localhost:8080/"
        },
        "id": "zau6RgPBZvjh",
        "outputId": "e9bef31e-99dc-4089-d264-78359de84c1b"
      },
      "outputs": [
        {
          "name": "stdout",
          "output_type": "stream",
          "text": [
            "Yes\n"
          ]
        }
      ],
      "source": [
        "def isPalindrome(s):\n",
        "  return s == s[::-1]\n",
        "s = \"malayalam\"\n",
        "ans = isPalindrome(s)\n",
        "if ans:\n",
        "  print(\"Yes\")\n",
        "else:\n",
        "  print(\"No\")\n"
      ]
    },
    {
      "cell_type": "markdown",
      "metadata": {
        "id": "3QX9O3pGZ8NG"
      },
      "source": [
        "create string by replacing space with #"
      ]
    },
    {
      "cell_type": "code",
      "execution_count": null,
      "metadata": {
        "colab": {
          "base_uri": "https://localhost:8080/"
        },
        "id": "_QPL3dP0aA1N",
        "outputId": "815a9cf3-9c39-4428-d7bf-0dbfa45bed17"
      },
      "outputs": [
        {
          "name": "stdout",
          "output_type": "stream",
          "text": [
            "eeshwar#vijaya#satish#ruthvik\n"
          ]
        }
      ],
      "source": [
        "string = \"eeshwar vijaya satish ruthvik\"\n",
        "print(string.replace(\" \",\"#\"))"
      ]
    },
    {
      "cell_type": "markdown",
      "metadata": {
        "id": "zcGpqodqaalb"
      },
      "source": [
        "create a string by appaending with !"
      ]
    },
    {
      "cell_type": "code",
      "execution_count": null,
      "metadata": {
        "colab": {
          "base_uri": "https://localhost:8080/"
        },
        "id": "BrZmLUxMafx1",
        "outputId": "921f2d43-b1d5-41dc-9180-1301e71319c1"
      },
      "outputs": [
        {
          "name": "stdout",
          "output_type": "stream",
          "text": [
            "my name is eeshwarhello, good morning\n"
          ]
        }
      ],
      "source": [
        "string1 = \"my name is eeshwar\"\n",
        "string2 = \"hello, good morning\"\n",
        "string1 += string2\n",
        "print(string1)"
      ]
    },
    {
      "cell_type": "markdown",
      "metadata": {
        "id": "i9WTb1cecY0G"
      },
      "source": [
        "create string by replacing digits with #"
      ]
    },
    {
      "cell_type": "code",
      "execution_count": null,
      "metadata": {
        "colab": {
          "base_uri": "https://localhost:8080/"
        },
        "id": "LsC8X0tcbDIS",
        "outputId": "6b75ef83-059e-4292-a09a-2c481df0cad9"
      },
      "outputs": [
        {
          "name": "stdout",
          "output_type": "stream",
          "text": [
            "G#G is # all No. # Geeks\n"
          ]
        }
      ],
      "source": [
        "test_str = 'G4G is 4 all No. 1 Geeks'\n",
        "K = '#'\n",
        "for ele in test_str:\n",
        "  if ele.isdigit():\n",
        "    test_str = test_str.replace(ele, K)\n",
        "print(test_str)"
      ]
    },
    {
      "cell_type": "markdown",
      "metadata": {
        "id": "p0nX59zvejzO"
      },
      "source": [
        "check if given number is positive, negative or 0"
      ]
    },
    {
      "cell_type": "code",
      "execution_count": null,
      "metadata": {
        "colab": {
          "base_uri": "https://localhost:8080/"
        },
        "id": "lh85zFC9d0WE",
        "outputId": "be1cfc73-08f1-4604-a5ee-643a4f52d530"
      },
      "outputs": [
        {
          "name": "stdout",
          "output_type": "stream",
          "text": [
            "Input a number: -45\n",
            "Number is Negative number.\n"
          ]
        }
      ],
      "source": [
        "n = float(input(\"Input a number: \"))\n",
        "if n >= 0:\n",
        "  if n == 0:\n",
        "      print(\"It is Zero!\")\n",
        "  else:\n",
        "      print(\"Number is Positive number.\")\n",
        "else:\n",
        "  print(\"Number is Negative number.\")\n"
      ]
    },
    {
      "cell_type": "markdown",
      "metadata": {
        "id": "szUAPxy1LMB5"
      },
      "source": [
        "check if even or odd"
      ]
    },
    {
      "cell_type": "code",
      "execution_count": null,
      "metadata": {
        "colab": {
          "base_uri": "https://localhost:8080/"
        },
        "id": "eunLxc4LLhm8",
        "outputId": "9d9d40f8-eca1-4dbe-8bd7-021db59297ab"
      },
      "outputs": [
        {
          "name": "stdout",
          "output_type": "stream",
          "text": [
            "Enter a number: 5\n",
            "5 is Odd\n"
          ]
        }
      ],
      "source": [
        "num = int(input(\"Enter a number: \"))\n",
        "if (num % 2) == 0:\n",
        "   print(\"{0} is Even\".format(num))\n",
        "else:\n",
        "   print(\"{0} is Odd\".format(num))"
      ]
    },
    {
      "cell_type": "markdown",
      "metadata": {
        "id": "Ndvrhc9tLoSr"
      },
      "source": [
        "find smaller / bigger of two"
      ]
    },
    {
      "cell_type": "code",
      "execution_count": null,
      "metadata": {
        "colab": {
          "base_uri": "https://localhost:8080/"
        },
        "id": "Tmjb33MKL4Bc",
        "outputId": "3a2626e3-6470-45f5-9b5b-8ca3d19f1d54"
      },
      "outputs": [
        {
          "name": "stdout",
          "output_type": "stream",
          "text": [
            "6\n",
            "8\n",
            "8\n",
            "6\n"
          ]
        }
      ],
      "source": [
        "a = int(input())\n",
        "b = int(input())\n",
        "minimum = min(a, b)\n",
        "maximum = max(a, b)\n",
        "print(maximum)\n",
        "print(minimum)"
      ]
    },
    {
      "cell_type": "markdown",
      "metadata": {
        "id": "p8avgpEWM3Oj"
      },
      "source": [
        "biggest or smallest of 3"
      ]
    },
    {
      "cell_type": "code",
      "execution_count": null,
      "metadata": {
        "colab": {
          "base_uri": "https://localhost:8080/"
        },
        "id": "oHLHb_KBMtxz",
        "outputId": "9a3a5b21-2fe2-4fb6-ce1b-52f1ea19d05e"
      },
      "outputs": [
        {
          "name": "stdout",
          "output_type": "stream",
          "text": [
            "7\n",
            "10\n",
            "13\n",
            "13\n",
            "7\n"
          ]
        }
      ],
      "source": [
        "a = int(input())\n",
        "b = int(input())\n",
        "c = int(input())\n",
        "minimum = min(a, b, c)\n",
        "maximum = max(a, b, c)\n",
        "print(maximum)\n",
        "print(minimum)"
      ]
    },
    {
      "cell_type": "markdown",
      "metadata": {
        "id": "bVWzOgOKNPor"
      },
      "source": [
        "check pass, fail, distinction"
      ]
    },
    {
      "cell_type": "code",
      "execution_count": null,
      "metadata": {
        "colab": {
          "base_uri": "https://localhost:8080/"
        },
        "id": "7FHQM0spNEuV",
        "outputId": "dc26cfda-5750-4d73-e466-e9f6109d2504"
      },
      "outputs": [
        {
          "name": "stdout",
          "output_type": "stream",
          "text": [
            "34\n",
            "Failed\n"
          ]
        }
      ],
      "source": [
        "StudentMarks  = int(input())\n",
        "if StudentMarks >= 90:\n",
        "    print('Student secured grade A ')\n",
        "elif StudentMarks >= 80:\n",
        "    print('Student secured grade B ')\n",
        "elif StudentMarks >= 70:\n",
        "    print('Student secured grade C ')\n",
        "elif StudentMarks >= 60:\n",
        "    print('Student secured grade D ')\n",
        "elif StudentMarks >= 50:\n",
        "    print('Student secured grade E')\n",
        "elif StudentMarks <= 40:\n",
        "    print('Failed')"
      ]
    },
    {
      "cell_type": "markdown",
      "metadata": {
        "id": "Yx1A6PpuPd__"
      },
      "source": [
        "check if 3 points are collinear"
      ]
    },
    {
      "cell_type": "code",
      "execution_count": 3,
      "metadata": {
        "id": "LNAzixgGN7k3"
      },
      "outputs": [
        {
          "name": "stdout",
          "output_type": "stream",
          "text": [
            "The points are collinear.\n"
          ]
        }
      ],
      "source": [
        "def are_collinear(p1, p2, p3):\n",
        "    # Extract coordinates\n",
        "    x1, y1 = p1\n",
        "    x2, y2 = p2\n",
        "    x3, y3 = p3\n",
        "    \n",
        "    # Check collinearity using determinant method\n",
        "    return (x2 - x1) * (y3 - y2) == (y2 - y1) * (x3 - x2)\n",
        "\n",
        "# Take input from the user\n",
        "p1 = tuple(map(int, input(\"Enter coordinates of point 1 (x1, y1): \").split()))\n",
        "p2 = tuple(map(int, input(\"Enter coordinates of point 2 (x2, y2): \").split()))\n",
        "p3 = tuple(map(int, input(\"Enter coordinates of point 3 (x3, y3): \").split()))\n",
        "\n",
        "# Check if points are collinear\n",
        "if are_collinear(p1, p2, p3):\n",
        "    print(\"The points are collinear.\")\n",
        "else:\n",
        "    print(\"The points are not collinear.\")\n"
      ]
    }
  ],
  "metadata": {
    "colab": {
      "provenance": []
    },
    "kernelspec": {
      "display_name": "Python 3",
      "name": "python3"
    },
    "language_info": {
      "codemirror_mode": {
        "name": "ipython",
        "version": 3
      },
      "file_extension": ".py",
      "mimetype": "text/x-python",
      "name": "python",
      "nbconvert_exporter": "python",
      "pygments_lexer": "ipython3",
      "version": "3.12.4"
    }
  },
  "nbformat": 4,
  "nbformat_minor": 0
}
