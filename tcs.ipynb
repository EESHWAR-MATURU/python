{
 "cells": [
  {
   "cell_type": "code",
   "execution_count": 14,
   "metadata": {},
   "outputs": [
    {
     "name": "stdout",
     "output_type": "stream",
     "text": [
      "Total:  92\n",
      "Average: 13.1\n"
     ]
    }
   ],
   "source": [
    "n = int(input())\n",
    "t = 0\n",
    "for _ in range(n):\n",
    "    num = int(input())\n",
    "    t += num\n",
    "a = t / n\n",
    "print(\"Total: \", t)\n",
    "print(\"Average: {:.1f}\".format(a))"
   ]
  },
  {
   "cell_type": "code",
   "execution_count": 1,
   "metadata": {},
   "outputs": [
    {
     "name": "stdout",
     "output_type": "stream",
     "text": [
      "14\n"
     ]
    }
   ],
   "source": [
    "l = int(input())\n",
    "h = int(input())\n",
    "count = 0\n",
    "for i in range(l,h+1):\n",
    "    i = str(i)\n",
    "    rev =i[::-1]\n",
    "    if(rev==i):\n",
    "        count +=1\n",
    "print(count)"
   ]
  },
  {
   "cell_type": "code",
   "execution_count": 13,
   "metadata": {},
   "outputs": [
    {
     "name": "stdout",
     "output_type": "stream",
     "text": [
      "Total:  33.0\n",
      "Average: 4.7\n"
     ]
    }
   ],
   "source": [
    "n = list(map(float, input().split()))\n",
    "t = 0\n",
    "for i in n:\n",
    "    t += i\n",
    "a = t / len(n)\n",
    "print(\"Total: \", t)\n",
    "print(\"Average: {:.1f}\".format(a))"
   ]
  }
 ],
 "metadata": {
  "kernelspec": {
   "display_name": "Python 3",
   "language": "python",
   "name": "python3"
  },
  "language_info": {
   "codemirror_mode": {
    "name": "ipython",
    "version": 3
   },
   "file_extension": ".py",
   "mimetype": "text/x-python",
   "name": "python",
   "nbconvert_exporter": "python",
   "pygments_lexer": "ipython3",
   "version": "3.12.4"
  }
 },
 "nbformat": 4,
 "nbformat_minor": 2
}
